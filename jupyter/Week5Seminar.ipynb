{
 "cells": [
  {
   "cell_type": "code",
   "execution_count": 1,
   "metadata": {},
   "outputs": [
    {
     "name": "stderr",
     "output_type": "stream",
     "text": [
      "C:\\Users\\nikit\\PycharmProjects\\recsys-itmo-spring-2023\\venv\\lib\\site-packages\\lightfm\\_lightfm_fast.py:10: UserWarning: LightFM was compiled without OpenMP support. Only a single thread will be used.\n",
      "  \"LightFM was compiled without OpenMP support. \"\n"
     ]
    }
   ],
   "source": [
    "from collections import defaultdict\n",
    "\n",
    "import pandas as pd\n",
    "import numpy as np\n",
    "import scipy.stats as ss\n",
    "\n",
    "import lightfm\n",
    "import lightfm.data as ld\n",
    "import lightfm.evaluation as lv\n",
    "\n",
    "import tqdm\n",
    "import json\n",
    "import optuna\n",
    "\n",
    "import tensorboardX as tb\n",
    "\n",
    "import matplotlib.pyplot as pl\n",
    "import seaborn as sns\n",
    "\n",
    "np.random.seed(31337)"
   ]
  },
  {
   "cell_type": "code",
   "execution_count": 2,
   "metadata": {},
   "outputs": [],
   "source": [
    "# DATA_DIR = \"/Users/darya.nikanorova/Desktop/\"\n",
    "DATA_DIR = \"../botify/data/\""
   ]
  },
  {
   "cell_type": "code",
   "execution_count": 3,
   "metadata": {},
   "outputs": [
    {
     "data": {
      "text/plain": "       message               timestamp  user  track  time   latency  \\\n0         next 2023-03-21 19:56:21.970  8811   3305  0.00  0.001737   \n1         next 2023-03-21 19:56:21.976  6588   4500  1.00  0.000979   \n2         next 2023-03-21 19:56:21.981  6931  20667  1.00  0.000839   \n3         next 2023-03-21 19:56:21.985  8811  18969  0.97  0.001256   \n4         next 2023-03-21 19:56:21.988  6588    692  0.91  0.001389   \n...        ...                     ...   ...    ...   ...       ...   \n569864    next 2023-03-21 20:42:03.026   943   8838  1.00  0.000809   \n569865    next 2023-03-21 20:42:03.151   943  29014  0.00  0.000724   \n569866    next 2023-03-21 20:42:03.158   943  49344  0.27  0.000720   \n569867    next 2023-03-21 20:42:03.165   943  10190  0.17  0.000891   \n569869    last 2023-03-21 20:42:03.177   943  49084  0.03  0.000291   \n\n        recommendation experiments  \n0              18969.0          {}  \n1                692.0          {}  \n2              10713.0          {}  \n3              44576.0          {}  \n4              27873.0          {}  \n...                ...         ...  \n569864         29014.0          {}  \n569865         49344.0          {}  \n569866         10190.0          {}  \n569867         25734.0          {}  \n569869             NaN          {}  \n\n[472538 rows x 8 columns]",
      "text/html": "<div>\n<style scoped>\n    .dataframe tbody tr th:only-of-type {\n        vertical-align: middle;\n    }\n\n    .dataframe tbody tr th {\n        vertical-align: top;\n    }\n\n    .dataframe thead th {\n        text-align: right;\n    }\n</style>\n<table border=\"1\" class=\"dataframe\">\n  <thead>\n    <tr style=\"text-align: right;\">\n      <th></th>\n      <th>message</th>\n      <th>timestamp</th>\n      <th>user</th>\n      <th>track</th>\n      <th>time</th>\n      <th>latency</th>\n      <th>recommendation</th>\n      <th>experiments</th>\n    </tr>\n  </thead>\n  <tbody>\n    <tr>\n      <th>0</th>\n      <td>next</td>\n      <td>2023-03-21 19:56:21.970</td>\n      <td>8811</td>\n      <td>3305</td>\n      <td>0.00</td>\n      <td>0.001737</td>\n      <td>18969.0</td>\n      <td>{}</td>\n    </tr>\n    <tr>\n      <th>1</th>\n      <td>next</td>\n      <td>2023-03-21 19:56:21.976</td>\n      <td>6588</td>\n      <td>4500</td>\n      <td>1.00</td>\n      <td>0.000979</td>\n      <td>692.0</td>\n      <td>{}</td>\n    </tr>\n    <tr>\n      <th>2</th>\n      <td>next</td>\n      <td>2023-03-21 19:56:21.981</td>\n      <td>6931</td>\n      <td>20667</td>\n      <td>1.00</td>\n      <td>0.000839</td>\n      <td>10713.0</td>\n      <td>{}</td>\n    </tr>\n    <tr>\n      <th>3</th>\n      <td>next</td>\n      <td>2023-03-21 19:56:21.985</td>\n      <td>8811</td>\n      <td>18969</td>\n      <td>0.97</td>\n      <td>0.001256</td>\n      <td>44576.0</td>\n      <td>{}</td>\n    </tr>\n    <tr>\n      <th>4</th>\n      <td>next</td>\n      <td>2023-03-21 19:56:21.988</td>\n      <td>6588</td>\n      <td>692</td>\n      <td>0.91</td>\n      <td>0.001389</td>\n      <td>27873.0</td>\n      <td>{}</td>\n    </tr>\n    <tr>\n      <th>...</th>\n      <td>...</td>\n      <td>...</td>\n      <td>...</td>\n      <td>...</td>\n      <td>...</td>\n      <td>...</td>\n      <td>...</td>\n      <td>...</td>\n    </tr>\n    <tr>\n      <th>569864</th>\n      <td>next</td>\n      <td>2023-03-21 20:42:03.026</td>\n      <td>943</td>\n      <td>8838</td>\n      <td>1.00</td>\n      <td>0.000809</td>\n      <td>29014.0</td>\n      <td>{}</td>\n    </tr>\n    <tr>\n      <th>569865</th>\n      <td>next</td>\n      <td>2023-03-21 20:42:03.151</td>\n      <td>943</td>\n      <td>29014</td>\n      <td>0.00</td>\n      <td>0.000724</td>\n      <td>49344.0</td>\n      <td>{}</td>\n    </tr>\n    <tr>\n      <th>569866</th>\n      <td>next</td>\n      <td>2023-03-21 20:42:03.158</td>\n      <td>943</td>\n      <td>49344</td>\n      <td>0.27</td>\n      <td>0.000720</td>\n      <td>10190.0</td>\n      <td>{}</td>\n    </tr>\n    <tr>\n      <th>569867</th>\n      <td>next</td>\n      <td>2023-03-21 20:42:03.165</td>\n      <td>943</td>\n      <td>10190</td>\n      <td>0.17</td>\n      <td>0.000891</td>\n      <td>25734.0</td>\n      <td>{}</td>\n    </tr>\n    <tr>\n      <th>569869</th>\n      <td>last</td>\n      <td>2023-03-21 20:42:03.177</td>\n      <td>943</td>\n      <td>49084</td>\n      <td>0.03</td>\n      <td>0.000291</td>\n      <td>NaN</td>\n      <td>{}</td>\n    </tr>\n  </tbody>\n</table>\n<p>472538 rows × 8 columns</p>\n</div>"
     },
     "execution_count": 3,
     "metadata": {},
     "output_type": "execute_result"
    }
   ],
   "source": [
    "data = pd.read_json(DATA_DIR + \"input.json\", lines=True).drop_duplicates(subset=[\"user\", \"track\"])\n",
    "data"
   ]
  },
  {
   "cell_type": "code",
   "execution_count": 4,
   "metadata": {},
   "outputs": [],
   "source": [
    "positives = data[data[\"time\"] > 0.8].copy()\n",
    "positives[\"test\"] = np.random.random(len(positives)) >= 0.7"
   ]
  },
  {
   "cell_type": "code",
   "execution_count": 5,
   "metadata": {},
   "outputs": [],
   "source": [
    "user_counts = positives[~positives[\"test\"]].groupby(\"user\").size()\n",
    "users = set(user_counts[user_counts >= 5].index.values)"
   ]
  },
  {
   "cell_type": "code",
   "execution_count": 6,
   "metadata": {},
   "outputs": [],
   "source": [
    "track_counts = positives[~positives[\"test\"]].groupby(\"track\").size()\n",
    "tracks = set(track_counts[track_counts >= 5].index.values)"
   ]
  },
  {
   "cell_type": "markdown",
   "metadata": {},
   "source": [
    "## Train LightFM"
   ]
  },
  {
   "cell_type": "code",
   "execution_count": 7,
   "metadata": {},
   "outputs": [
    {
     "data": {
      "text/plain": "(44144, 15787)"
     },
     "execution_count": 7,
     "metadata": {},
     "output_type": "execute_result"
    }
   ],
   "source": [
    "train_data = positives[~positives[\"test\"] & positives[\"user\"].isin(users) & positives[\"track\"].isin(tracks)]\n",
    "test_data = positives[positives[\"test\"] & positives[\"user\"].isin(users) & positives[\"track\"].isin(tracks)]\n",
    "\n",
    "len(train_data), len(test_data)"
   ]
  },
  {
   "cell_type": "code",
   "execution_count": 8,
   "metadata": {},
   "outputs": [],
   "source": [
    "dataset = ld.Dataset()\n",
    "dataset.fit(users, tracks)"
   ]
  },
  {
   "cell_type": "code",
   "execution_count": 9,
   "metadata": {},
   "outputs": [],
   "source": [
    "train_interactions, _ = dataset.build_interactions(train_data[[\"user\", \"track\"]].itertuples(index=False, name=None))\n",
    "test_interactions, _ = dataset.build_interactions(test_data[[\"user\", \"track\"]].itertuples(index=False, name=None))"
   ]
  },
  {
   "cell_type": "code",
   "execution_count": 10,
   "metadata": {},
   "outputs": [],
   "source": [
    "def fit_model(\n",
    "    epochs=1, \n",
    "    at=10, \n",
    "    loss=\"warp\", \n",
    "    no_components=30, \n",
    "    learning_rate=0.01, \n",
    "    max_sampled=10, \n",
    "    user_alpha=0.0, \n",
    "    item_alpha=0.0, \n",
    "    threads=30,\n",
    "    verbose=False,\n",
    "    patience=3,\n",
    "    epsilon=1e-6\n",
    "):\n",
    "    model = lightfm.LightFM(\n",
    "        no_components=no_components,\n",
    "        loss=loss,\n",
    "        learning_rate=learning_rate,\n",
    "        max_sampled=max_sampled,\n",
    "        user_alpha=user_alpha,\n",
    "        item_alpha=item_alpha,\n",
    "    )\n",
    "\n",
    "    precisions_at = []\n",
    "    for epoch in range(epochs):\n",
    "        # print(\"Started for cycle\")\n",
    "        model = model.fit_partial(train_interactions, num_threads=threads)\n",
    "        # print(\"model.fit_partial finished\")\n",
    "        precision_at = lv.precision_at_k(model, test_interactions, train_interactions=train_interactions, k=at, num_threads=threads)\n",
    "        # print(\"precision_at_k finished\")\n",
    "        if verbose:\n",
    "            print(f\"{epoch}:\\t{np.mean(precision_at)} +/- {ss.sem(precision_at) * 1.96}\")\n",
    "        precisions_at.append(np.mean(precision_at))\n",
    "        \n",
    "        if epoch > patience and all([precisions_at[-j] - precisions_at[-patience-1] < epsilon for j in range(1, patience + 1)]):\n",
    "            if verbose:\n",
    "                print(\"Early stopiing!\")\n",
    "            break\n",
    "        \n",
    "    return model, precisions_at\n",
    "\n",
    "\n",
    "def objective(trial):\n",
    "    loss = trial.suggest_categorical(\"loss\", [\"warp\", \"bpr\"])\n",
    "    no_components = trial.suggest_categorical(\"no_components\", [10, 30, 50])\n",
    "    learning_rate = trial.suggest_categorical(\"learning_rate\", [0.0001, 0.001, 0.01])\n",
    "    max_sampled = trial.suggest_categorical(\"max_sampled\", [10, 20, 50, 100])\n",
    "    user_alpha = trial.suggest_categorical(\"user_alpha\", [0.0, 0.0001])\n",
    "    item_alpha = trial.suggest_categorical(\"item_alpha\", [0.0, 0.0001])\n",
    "    \n",
    "    model, precisions_at = fit_model(\n",
    "        epochs=5, \n",
    "        at=10,\n",
    "        loss=loss,\n",
    "        no_components=no_components, \n",
    "        learning_rate=learning_rate, \n",
    "        max_sampled=max_sampled, \n",
    "        user_alpha=user_alpha, \n",
    "        item_alpha=item_alpha,\n",
    "    )\n",
    "    \n",
    "    return precisions_at[-1]\n"
   ]
  },
  {
   "cell_type": "code",
   "execution_count": 11,
   "metadata": {},
   "outputs": [],
   "source": [
    "# study = optuna.create_study(direction=\"maximize\")\n",
    "# study.optimize(objective, n_trials=30)\n",
    "# best_params = study.best_params\n",
    "\n",
    "best_params = {\n",
    "    'loss': 'warp',\n",
    "    'no_components': 50,\n",
    "    'learning_rate': 0.01,\n",
    "    'max_sampled': 50,\n",
    "    'user_alpha': 0.0,\n",
    "    'item_alpha': 0.0001\n",
    "}"
   ]
  },
  {
   "cell_type": "code",
   "execution_count": 12,
   "metadata": {
    "tags": []
   },
   "outputs": [
    {
     "name": "stdout",
     "output_type": "stream",
     "text": [
      "Hello here\n",
      "0:\t0.010176565498113632 +/- 0.0008862801910720326\n",
      "1:\t0.010337079875171185 +/- 0.0008973519219858838\n",
      "2:\t0.010770466178655624 +/- 0.0009176959477079747\n",
      "3:\t0.011508828960359097 +/- 0.0009638640831998858\n",
      "4:\t0.01216693501919508 +/- 0.001018443278144122\n",
      "5:\t0.013162118382751942 +/- 0.001068855703578536\n",
      "6:\t0.014189406298100948 +/- 0.0011276674401419454\n",
      "7:\t0.015409309417009354 +/- 0.0011806335070371557\n",
      "8:\t0.016404494643211365 +/- 0.0012162657091642443\n",
      "9:\t0.017062600702047348 +/- 0.001242547355998549\n",
      "10:\t0.01772070676088333 +/- 0.0012727490575527491\n",
      "11:\t0.018202247098088264 +/- 0.001291749889142952\n",
      "12:\t0.018731942400336266 +/- 0.0013088078995790293\n",
      "13:\t0.019020866602659225 +/- 0.001319806272851931\n",
      "14:\t0.019197432324290276 +/- 0.0013238488986616849\n",
      "15:\t0.01950240693986416 +/- 0.0013289415655589772\n",
      "16:\t0.020016049966216087 +/- 0.0013390909143317091\n",
      "17:\t0.02044943906366825 +/- 0.0013457550813607171\n",
      "18:\t0.02078651636838913 +/- 0.001353215544194635\n",
      "19:\t0.020995182916522026 +/- 0.001360354361987466\n",
      "20:\t0.021348314359784126 +/- 0.0013678595979591133\n",
      "21:\t0.021749598905444145 +/- 0.0013801887694951925\n",
      "22:\t0.02223113924264908 +/- 0.0013854881883817941\n",
      "23:\t0.022616373375058174 +/- 0.0013966030273166825\n",
      "24:\t0.023033708333969116 +/- 0.0014058335091946456\n",
      "25:\t0.02316211722791195 +/- 0.0014045317579671028\n",
      "26:\t0.023499196395277977 +/- 0.0014077705024403483\n",
      "27:\t0.023900480940937996 +/- 0.0014214689549364964\n",
      "28:\t0.02433387003839016 +/- 0.0014297933358143327\n",
      "29:\t0.024526484310626984 +/- 0.001433298221438917\n",
      "30:\t0.024991976097226143 +/- 0.0014417819909868115\n",
      "31:\t0.025168539956212044 +/- 0.0014470874227948025\n",
      "32:\t0.025329051539301872 +/- 0.0014460438571610678\n",
      "33:\t0.02560192532837391 +/- 0.0014495793624314964\n",
      "34:\t0.02584269642829895 +/- 0.0014554688801725957\n",
      "35:\t0.02608346752822399 +/- 0.0014653692014933277\n",
      "36:\t0.02643659897148609 +/- 0.0014742748006033026\n",
      "37:\t0.026565007865428925 +/- 0.0014755365890302273\n",
      "38:\t0.026821831241250038 +/- 0.0014840519032887948\n",
      "39:\t0.02719101309776306 +/- 0.001494877566958099\n",
      "40:\t0.027431782335042953 +/- 0.001497790688611493\n",
      "41:\t0.027656501159071922 +/- 0.0015025048189807081\n",
      "42:\t0.028041735291481018 +/- 0.0015119077329428198\n",
      "43:\t0.028234349563717842 +/- 0.0015136243757462248\n",
      "44:\t0.028266454115509987 +/- 0.0015139089256876632\n",
      "45:\t0.02852327562868595 +/- 0.0015174728304483457\n",
      "46:\t0.028764046728610992 +/- 0.001520863655579499\n",
      "47:\t0.02892455831170082 +/- 0.0015241897261726138\n",
      "48:\t0.02926163747906685 +/- 0.0015315697083663976\n",
      "49:\t0.029550563544034958 +/- 0.0015358986417407653\n",
      "50:\t0.029743175953626633 +/- 0.0015419725249023095\n",
      "51:\t0.029871590435504913 +/- 0.00154365059250234\n",
      "52:\t0.03001605160534382 +/- 0.001544166871183474\n",
      "53:\t0.03025682270526886 +/- 0.001548634934308142\n",
      "54:\t0.030353130772709846 +/- 0.0015481116251343068\n",
      "55:\t0.03043338842689991 +/- 0.001551931125307276\n",
      "56:\t0.030401285737752914 +/- 0.0015465690795317428\n",
      "57:\t0.030626004561781883 +/- 0.001550231226177278\n",
      "58:\t0.03065810538828373 +/- 0.001549200981477083\n",
      "59:\t0.030850723385810852 +/- 0.0015545015104414792\n",
      "60:\t0.03101123869419098 +/- 0.0015569875296632665\n",
      "61:\t0.03112359717488289 +/- 0.0015603695666785433\n",
      "62:\t0.03128410875797272 +/- 0.0015640953577843225\n",
      "63:\t0.031508829444646835 +/- 0.0015676383560798667\n",
      "64:\t0.03163724020123482 +/- 0.001567306442819177\n",
      "65:\t0.03171749785542488 +/- 0.0015685162426027051\n",
      "66:\t0.031797755509614944 +/- 0.0015684607387129576\n",
      "67:\t0.031910113990306854 +/- 0.0015692622148809105\n",
      "68:\t0.032199036329984665 +/- 0.001574445538131457\n",
      "69:\t0.032487962394952774 +/- 0.0015827095122759518\n",
      "70:\t0.032375603914260864 +/- 0.0015750416499073444\n",
      "71:\t0.03240770474076271 +/- 0.0015790290493467997\n",
      "72:\t0.032552167773246765 +/- 0.0015793905646820214\n",
      "73:\t0.03269663080573082 +/- 0.0015778629126232064\n",
      "74:\t0.03276083618402481 +/- 0.0015789232219303479\n",
      "75:\t0.03280898928642273 +/- 0.001579247179633507\n",
      "76:\t0.032664526253938675 +/- 0.0015763900244022753\n",
      "77:\t0.03276083618402481 +/- 0.0015808031386760932\n",
      "78:\t0.032969504594802856 +/- 0.001584698216645602\n",
      "79:\t0.032905299216508865 +/- 0.001583021444136332\n",
      "80:\t0.03293740004301071 +/- 0.0015826097902873722\n",
      "81:\t0.03309791535139084 +/- 0.0015830466058996844\n",
      "82:\t0.033306580036878586 +/- 0.0015881557389509351\n",
      "83:\t0.033370789140462875 +/- 0.0015867004269617575\n",
      "84:\t0.03345104306936264 +/- 0.0015872179082271694\n",
      "85:\t0.03351524844765663 +/- 0.001590744625381721\n",
      "86:\t0.033418942242860794 +/- 0.0015870112487443432\n",
      "87:\t0.033418942242860794 +/- 0.0015838893399590162\n",
      "88:\t0.03349919989705086 +/- 0.0015850308699581549\n",
      "Early stopiing!\n"
     ]
    }
   ],
   "source": [
    "print(\"Hello here\")\n",
    "model, precisions_at = fit_model(\n",
    "    epochs=200,\n",
    "    at=10,\n",
    "    loss=best_params[\"loss\"],\n",
    "    no_components=best_params[\"no_components\"], \n",
    "    learning_rate=best_params[\"learning_rate\"], \n",
    "    max_sampled=best_params[\"max_sampled\"],\n",
    "    user_alpha=best_params[\"user_alpha\"],\n",
    "    item_alpha=best_params[\"item_alpha\"],\n",
    "    verbose=True,\n",
    ")"
   ]
  },
  {
   "cell_type": "code",
   "execution_count": 13,
   "metadata": {},
   "outputs": [
    {
     "data": {
      "text/plain": "<Figure size 640x480 with 1 Axes>",
      "image/png": "[encoded data removed]"
     },
     "metadata": {},
     "output_type": "display_data"
    }
   ],
   "source": [
    "figure, ax = pl.subplots()\n",
    "\n",
    "ax.plot(np.arange(len(precisions_at)), precisions_at)\n",
    "\n",
    "pass"
   ]
  },
  {
   "cell_type": "markdown",
   "metadata": {},
   "source": [
    "## Save track embeddings"
   ]
  },
  {
   "cell_type": "code",
   "execution_count": 14,
   "metadata": {},
   "outputs": [],
   "source": [
    "biases, embeddings = model.get_item_representations()"
   ]
  },
  {
   "cell_type": "code",
   "execution_count": 15,
   "metadata": {},
   "outputs": [],
   "source": [
    "model.item_biases *= 0.0"
   ]
  },
  {
   "cell_type": "code",
   "execution_count": 16,
   "metadata": {},
   "outputs": [],
   "source": [
    "track_meta = pd.read_json(DATA_DIR + \"tracks.json\", lines=True)\n",
    "track_meta[\"dataset_index\"] = track_meta[\"track\"].map(lambda t: dataset.mapping()[2].get(t))"
   ]
  },
  {
   "cell_type": "code",
   "execution_count": 17,
   "metadata": {},
   "outputs": [],
   "source": [
    "dataset_tracks = track_meta[pd.notnull(track_meta[\"dataset_index\"])].sort_values(\"dataset_index\")"
   ]
  },
  {
   "cell_type": "code",
   "execution_count": 18,
   "metadata": {},
   "outputs": [],
   "source": [
    "writer = tb.SummaryWriter(comment='msd_ligtfm_embeddings', log_dir=DATA_DIR + \"tb\")\n",
    "writer.add_embedding(embeddings, metadata=list(dataset_tracks[[\"artist\", \"title\"]].itertuples(index=False, name=None)), tag=\"lightfm\", metadata_header=[\"artist\", \"title\"])\n",
    "writer.close()"
   ]
  },
  {
   "cell_type": "markdown",
   "metadata": {},
   "source": [
    "## Compute top recommendations"
   ]
  },
  {
   "cell_type": "code",
   "execution_count": 19,
   "metadata": {},
   "outputs": [
    {
     "name": "stderr",
     "output_type": "stream",
     "text": [
      "50000it [00:37, 1316.13it/s]\n"
     ]
    }
   ],
   "source": [
    "k = 20\n",
    "max_tracks_from_same_artist = 5\n",
    "\n",
    "with open(DATA_DIR + f\"recommendations_{k}_{max_tracks_from_same_artist}.json\", \"w\") as rf:\n",
    "    for _, track in tqdm.tqdm(track_meta.iterrows()):\n",
    "        j = track[\"dataset_index\"]\n",
    "        \n",
    "        recommendations = []\n",
    "        if pd.notna(j):\n",
    "            embedding = embeddings[int(j)]\n",
    "            neighbours = np.argsort(-np.dot(embeddings, embedding))\n",
    "            \n",
    "            artists = defaultdict(int)\n",
    "            for neighbour in neighbours:\n",
    "                recommended_track = dataset_tracks[dataset_tracks[\"dataset_index\"] == neighbour].iloc[0]\n",
    "                \n",
    "                recommendation = int(recommended_track[\"track\"])\n",
    "                if recommendation == track[\"track\"]:\n",
    "                    continue\n",
    "                \n",
    "                artist = recommended_track[\"artist\"]\n",
    "                if artists[artist] >= max_tracks_from_same_artist:\n",
    "                    continue\n",
    "                \n",
    "                recommendations.append(recommendation)\n",
    "                artists[artist] += 1\n",
    "\n",
    "                if len(recommendations) == k:\n",
    "                    break\n",
    "         \n",
    "        track_with_recommendations = dict(track)\n",
    "        track_with_recommendations[\"recommendations\"] = recommendations\n",
    "        \n",
    "        rf.write(json.dumps(track_with_recommendations) + \"\\n\")"
   ]
  },
  {
   "cell_type": "markdown",
   "metadata": {},
   "source": [
    "## How many unique artist per recommendation list?"
   ]
  },
  {
   "cell_type": "code",
   "execution_count": 20,
   "metadata": {},
   "outputs": [],
   "source": [
    "dataset_track_artists = dict(zip(\n",
    "    dataset_tracks[\"track\"].values.tolist(),\n",
    "    dataset_tracks[\"artist\"].values.tolist(),\n",
    "))"
   ]
  },
  {
   "cell_type": "code",
   "execution_count": 21,
   "metadata": {},
   "outputs": [
    {
     "name": "stdout",
     "output_type": "stream",
     "text": [
      "I Don\u0019t Want To See You by Camera Obscura \n",
      "===\n",
      "Erin McKeown\n",
      "Soltero\n",
      "Soltero\n",
      "Soltero\n",
      "Emmy The Great\n",
      "Soltero\n",
      "Tiny Vipers\n",
      "the bird and the bee\n",
      "Soltero\n",
      "the bird and the bee\n",
      "the bird and the bee\n",
      "the bird and the bee\n",
      "Cibo Matto\n",
      "the bird and the bee\n",
      "The Generationals\n",
      "Belle & Sebastian\n",
      "Blood Red Throne\n",
      "Air France\n",
      "Frightened Rabbit\n",
      "Frightened Rabbit\n"
     ]
    }
   ],
   "source": [
    "recs = pd.read_json(DATA_DIR + f\"recommendations_{k}_{max_tracks_from_same_artist}.json\", lines=True)\n",
    "recs = recs[recs[\"dataset_index\"].notnull()]\n",
    "\n",
    "sample = recs.sample(frac=0.1).iloc[0]\n",
    "\n",
    "print(sample[\"title\"], \"by\" , sample[\"artist\"], \"\\n===\")\n",
    "print(\"\\n\".join([dataset_track_artists[track] for track in sample[\"recommendations\"]]))"
   ]
  },
  {
   "cell_type": "code",
   "execution_count": 22,
   "metadata": {},
   "outputs": [
    {
     "data": {
      "text/plain": "16    636\n17    596\n18    590\n15    525\n19    523\n14    364\n20    364\n13    222\n12    169\n11     91\n10     47\n9      15\n8       3\nName: recommendations, dtype: int64"
     },
     "execution_count": 22,
     "metadata": {},
     "output_type": "execute_result"
    }
   ],
   "source": [
    "def count_artists(tracks):\n",
    "    return len(\n",
    "        set([dataset_track_artists[track] for track in tracks])\n",
    "    )\n",
    "\n",
    "\n",
    "artist_counts = recs[\"recommendations\"].map(count_artists)\n",
    "artist_counts.value_counts()"
   ]
  },
  {
   "cell_type": "code",
   "execution_count": 22,
   "metadata": {},
   "outputs": [],
   "source": []
  }
 ],
 "metadata": {
  "kernelspec": {
   "display_name": "Python 3 (ipykernel)",
   "language": "python",
   "name": "python3"
  },
  "language_info": {
   "codemirror_mode": {
    "name": "ipython",
    "version": 3
   },
   "file_extension": ".py",
   "mimetype": "text/x-python",
   "name": "python",
   "nbconvert_exporter": "python",
   "pygments_lexer": "ipython3",
   "version": "3.9.7"
  }
 },
 "nbformat": 4,
 "nbformat_minor": 4
}
